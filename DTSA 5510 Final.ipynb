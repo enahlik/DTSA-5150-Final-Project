{
 "cells": [
  {
   "cell_type": "markdown",
   "id": "1dcb7120-18f9-42d9-a4ac-547bb649dd5a",
   "metadata": {},
   "source": [
    "# Detecting Fake News"
   ]
  },
  {
   "cell_type": "markdown",
   "id": "52121dd7-70af-4a5b-a18b-f34f3b7b3a6c",
   "metadata": {},
   "source": [
    "## DTSA 5510 Final Project"
   ]
  },
  {
   "cell_type": "markdown",
   "id": "65454473-0e98-41a6-bf31-1ea5f4f9fb56",
   "metadata": {},
   "source": [
    "### Thesis\n",
    "With this being another election year, I wanted to take a look at fake news. I intend to create an unspervised model to be able to detect fake news based on news from around the previous election cycle, April 1, 2016 - September 9, 2017"
   ]
  },
  {
   "cell_type": "markdown",
   "id": "3f7ee29a-7f61-49fe-96ab-5b244e8f0237",
   "metadata": {},
   "source": [
    "### Dataset Analysis\n",
    "The Dataset I used is the fake-and-real-news-dataset available on Kaggle. https://www.kaggle.com/datasets/clmentbisaillon/fake-and-real-news-dataset\n",
    "\n",
    "The dataset comtains examples from 23480 true sources and 21416 fake sources. I chose to classify each row of these dataframes and then combine them into a larger dataset"
   ]
  },
  {
   "cell_type": "code",
   "execution_count": 1,
   "id": "ece80867-55f9-4140-b331-508ed4a2fb32",
   "metadata": {},
   "outputs": [],
   "source": [
    "import pandas as pd\n",
    "import numpy as np"
   ]
  },
  {
   "cell_type": "code",
   "execution_count": 2,
   "id": "e4e5cd87-f57e-4986-8d1b-68edc51a6504",
   "metadata": {},
   "outputs": [
    {
     "name": "stdout",
     "output_type": "stream",
     "text": [
      "<class 'pandas.core.frame.DataFrame'>\n",
      "RangeIndex: 23481 entries, 0 to 23480\n",
      "Data columns (total 4 columns):\n",
      " #   Column   Non-Null Count  Dtype \n",
      "---  ------   --------------  ----- \n",
      " 0   title    23481 non-null  object\n",
      " 1   text     23481 non-null  object\n",
      " 2   subject  23481 non-null  object\n",
      " 3   date     23481 non-null  object\n",
      "dtypes: object(4)\n",
      "memory usage: 733.9+ KB\n",
      "<class 'pandas.core.frame.DataFrame'>\n",
      "RangeIndex: 21417 entries, 0 to 21416\n",
      "Data columns (total 4 columns):\n",
      " #   Column   Non-Null Count  Dtype \n",
      "---  ------   --------------  ----- \n",
      " 0   title    21417 non-null  object\n",
      " 1   text     21417 non-null  object\n",
      " 2   subject  21417 non-null  object\n",
      " 3   date     21417 non-null  object\n",
      "dtypes: object(4)\n",
      "memory usage: 669.4+ KB\n"
     ]
    }
   ],
   "source": [
    "#Import and get genral info\n",
    "fakeDF = pd.read_csv('Fake.csv')\n",
    "fakeDF.info()\n",
    "\n",
    "trueDF = pd.read_csv('True.csv')\n",
    "trueDF.info()"
   ]
  },
  {
   "cell_type": "code",
   "execution_count": 3,
   "id": "94b46a67-5542-47d6-ba09-6d3eb71eb414",
   "metadata": {},
   "outputs": [
    {
     "name": "stdout",
     "output_type": "stream",
     "text": [
      "April 1, 2016 \n",
      "September 9, 2017 \n"
     ]
    }
   ],
   "source": [
    "#Verify time frame from the dataset\n",
    "print(trueDF['date'].min())\n",
    "print(trueDF['date'].max())"
   ]
  },
  {
   "cell_type": "code",
   "execution_count": 4,
   "id": "9bb6aa08-24c0-4fb4-b991-23bd32b3d77c",
   "metadata": {},
   "outputs": [],
   "source": [
    "#  classify and combine the datasets\n",
    "fakeDF['type'] = 0\n",
    "trueDF['type'] = 1\n",
    "\n",
    "combineDF =  pd.concat([fakeDF, trueDF])\n",
    "\n",
    "combineDF = combineDF.sample(frac=1).reset_index(drop=True)"
   ]
  },
  {
   "cell_type": "markdown",
   "id": "e62dd042-dabe-4e30-a1d9-5506f0e4c640",
   "metadata": {},
   "source": [
    "### Clean the Data\n",
    "To clean the data, I started by importing a list of stopwords. With this, I went through the each article and removed punctuation and numbers. I then converted it to lowecase and removed the stopwords. I added the title to the start of the cleaned text. Finally i vectorized the dataframe."
   ]
  },
  {
   "cell_type": "code",
   "execution_count": 5,
   "id": "8c470e6d-0832-4710-9874-bd1d3c40aedb",
   "metadata": {},
   "outputs": [
    {
     "name": "stderr",
     "output_type": "stream",
     "text": [
      "[nltk_data] Downloading package punkt to\n",
      "[nltk_data]     C:\\Users\\Edward\\AppData\\Roaming\\nltk_data...\n",
      "[nltk_data]   Package punkt is already up-to-date!\n",
      "[nltk_data] Downloading package stopwords to\n",
      "[nltk_data]     C:\\Users\\Edward\\AppData\\Roaming\\nltk_data...\n",
      "[nltk_data]   Package stopwords is already up-to-date!\n"
     ]
    }
   ],
   "source": [
    "#Clean the data using stopwords and regex\n",
    "import nltk\n",
    "from nltk.corpus import stopwords\n",
    "from nltk.tokenize import word_tokenize\n",
    "import re\n",
    "\n",
    "nltk.download('punkt')\n",
    "nltk.download('stopwords')  # Download stopwords if not already downloaded\n",
    "stop_words = list(stopwords.words('english'))\n",
    "\n",
    "def remove_stopwords(text):\n",
    "        words = word_tokenize(text)\n",
    "\n",
    "        filtered_words = [word for word in words if word.lower() not in stop_words]\n",
    "        \n",
    "        return ' '.join(filtered_words)\n",
    "\n",
    "def clean_text(df, col):\n",
    "    clean_text = df[col]\n",
    "    clean_text = clean_text.apply(lambda row: re.sub(r'[^\\w\\s]+', '', row))\n",
    "    clean_text = clean_text.apply(lambda row: re.sub(r'[0-9]+', '', row))\n",
    "    clean_text = clean_text.apply(lambda x: x.lower())\n",
    "    clean_text = clean_text.apply(lambda x: remove_stopwords(x))\n",
    "    \n",
    "    return clean_text"
   ]
  },
  {
   "cell_type": "code",
   "execution_count": 6,
   "id": "ac059d5f-3bc8-41b2-bf12-04bbe5a7931c",
   "metadata": {},
   "outputs": [],
   "source": [
    "combineDF['cleantext'] = clean_text(combineDF,'text')"
   ]
  },
  {
   "cell_type": "code",
   "execution_count": 7,
   "id": "f66f7fc3-b387-4b20-9f2c-6788035d3f59",
   "metadata": {},
   "outputs": [],
   "source": [
    "combineDF['cleantext'] = combineDF['title'] + ' ' + combineDF['text']\n",
    "trainDF = combineDF[['type', 'cleantext']]"
   ]
  },
  {
   "cell_type": "code",
   "execution_count": 8,
   "id": "0d92463e-df26-4b99-968a-5a900fbfdba4",
   "metadata": {},
   "outputs": [
    {
     "name": "stdout",
     "output_type": "stream",
     "text": [
      "n_samples: 44898, n_features: 3000\n"
     ]
    }
   ],
   "source": [
    "#Vectorization Eval\n",
    "\n",
    "from sklearn.feature_extraction.text import TfidfVectorizer\n",
    "from sklearn.cluster import KMeans\n",
    "\n",
    "vectorizer = TfidfVectorizer(\n",
    "    max_df=.5,\n",
    "    max_features=3000,\n",
    "    min_df = 19,\n",
    ")\n",
    "\n",
    "X_tfidf = vectorizer.fit_transform(trainDF['cleantext'])\n",
    "print(f\"n_samples: {X_tfidf.shape[0]}, n_features: {X_tfidf.shape[1]}\")"
   ]
  },
  {
   "cell_type": "markdown",
   "id": "0cff8681-30fc-4337-a8bc-cd34cd5d4c87",
   "metadata": {},
   "source": [
    "### Modeling\n",
    "After the vecotrization, I built a kmeans model to evaluate the language of each article. Through this process, I was able to adjust the parameters to find a solution that could predict with an over 85% accuracy that something was copnsidered fake."
   ]
  },
  {
   "cell_type": "code",
   "execution_count": 9,
   "id": "d3faece6-9dc4-4973-b138-d2d37b8c2af9",
   "metadata": {},
   "outputs": [],
   "source": [
    "#create kmeans model and associate labels\n",
    "from sklearn.cluster import KMeans\n",
    "\n",
    "kmeans_title = KMeans(\n",
    "    n_clusters=2,\n",
    "    max_iter=10,\n",
    "    n_init=3\n",
    ").fit(X_tfidf)\n",
    "\n",
    "kmeans_pred = kmeans_title.labels_"
   ]
  },
  {
   "cell_type": "code",
   "execution_count": 10,
   "id": "1bbfd0f4-11cc-4678-8954-160fa88b66e0",
   "metadata": {},
   "outputs": [],
   "source": [
    "import itertools\n",
    "from sklearn.metrics import accuracy_score, confusion_matrix\n",
    "import seaborn as sn\n",
    "\n",
    "def label_permute_compare(yt,yp):\n",
    "    labels = np.unique(yt)\n",
    "    perms = itertools.permutations(labels, len(labels))\n",
    "    best = 0\n",
    "    best_perm = []\n",
    "    for perm in perms:\n",
    "        y = np.array([perm[label] for label in yp])\n",
    "        acc = np.mean(y == yt)\n",
    "        if acc > best:\n",
    "            best = acc\n",
    "            best_perm = list(perm)\n",
    "    return best_perm, best"
   ]
  },
  {
   "cell_type": "code",
   "execution_count": 20,
   "id": "40f37e77-c1fb-44ab-8126-694905282f4a",
   "metadata": {},
   "outputs": [
    {
     "name": "stdout",
     "output_type": "stream",
     "text": [
      "Accuracy:  85.1 %\n"
     ]
    },
    {
     "data": {
      "image/png": "[encoded data removed]",
      "text/plain": [
       "<Figure size 640x480 with 2 Axes>"
      ]
     },
     "metadata": {},
     "output_type": "display_data"
    }
   ],
   "source": [
    "import matplotlib.pyplot as plt\n",
    "label_order_text, text_acc = label_permute_compare(trainDF['type'].values,kmeans_pred)\n",
    "kmeans_pred_labels = np.array([label_order_text[label] for label in kmeans_pred])\n",
    "\n",
    "print('Accuracy: ', int(text_acc*1000)/10,'%')\n",
    "\n",
    "text_cm = confusion_matrix(trainDF['type'].values,kmeans_pred_labels)/len(kmeans_pred_labels)\n",
    "sn.heatmap(text_cm, cmap = 'plasma', annot=True)\n",
    "plt.show()"
   ]
  },
  {
   "cell_type": "code",
   "execution_count": 12,
   "id": "f416d872-6366-4600-936a-5c5e3e0c9c46",
   "metadata": {},
   "outputs": [
    {
     "data": {
      "text/html": [
       "<style>#sk-container-id-1 {color: black;background-color: white;}#sk-container-id-1 pre{padding: 0;}#sk-container-id-1 div.sk-toggleable {background-color: white;}#sk-container-id-1 label.sk-toggleable__label {cursor: pointer;display: block;width: 100%;margin-bottom: 0;padding: 0.3em;box-sizing: border-box;text-align: center;}#sk-container-id-1 label.sk-toggleable__label-arrow:before {content: \"▸\";float: left;margin-right: 0.25em;color: #696969;}#sk-container-id-1 label.sk-toggleable__label-arrow:hover:before {color: black;}#sk-container-id-1 div.sk-estimator:hover label.sk-toggleable__label-arrow:before {color: black;}#sk-container-id-1 div.sk-toggleable__content {max-height: 0;max-width: 0;overflow: hidden;text-align: left;background-color: #f0f8ff;}#sk-container-id-1 div.sk-toggleable__content pre {margin: 0.2em;color: black;border-radius: 0.25em;background-color: #f0f8ff;}#sk-container-id-1 input.sk-toggleable__control:checked~div.sk-toggleable__content {max-height: 200px;max-width: 100%;overflow: auto;}#sk-container-id-1 input.sk-toggleable__control:checked~label.sk-toggleable__label-arrow:before {content: \"▾\";}#sk-container-id-1 div.sk-estimator input.sk-toggleable__control:checked~label.sk-toggleable__label {background-color: #d4ebff;}#sk-container-id-1 div.sk-label input.sk-toggleable__control:checked~label.sk-toggleable__label {background-color: #d4ebff;}#sk-container-id-1 input.sk-hidden--visually {border: 0;clip: rect(1px 1px 1px 1px);clip: rect(1px, 1px, 1px, 1px);height: 1px;margin: -1px;overflow: hidden;padding: 0;position: absolute;width: 1px;}#sk-container-id-1 div.sk-estimator {font-family: monospace;background-color: #f0f8ff;border: 1px dotted black;border-radius: 0.25em;box-sizing: border-box;margin-bottom: 0.5em;}#sk-container-id-1 div.sk-estimator:hover {background-color: #d4ebff;}#sk-container-id-1 div.sk-parallel-item::after {content: \"\";width: 100%;border-bottom: 1px solid gray;flex-grow: 1;}#sk-container-id-1 div.sk-label:hover label.sk-toggleable__label {background-color: #d4ebff;}#sk-container-id-1 div.sk-serial::before {content: \"\";position: absolute;border-left: 1px solid gray;box-sizing: border-box;top: 0;bottom: 0;left: 50%;z-index: 0;}#sk-container-id-1 div.sk-serial {display: flex;flex-direction: column;align-items: center;background-color: white;padding-right: 0.2em;padding-left: 0.2em;position: relative;}#sk-container-id-1 div.sk-item {position: relative;z-index: 1;}#sk-container-id-1 div.sk-parallel {display: flex;align-items: stretch;justify-content: center;background-color: white;position: relative;}#sk-container-id-1 div.sk-item::before, #sk-container-id-1 div.sk-parallel-item::before {content: \"\";position: absolute;border-left: 1px solid gray;box-sizing: border-box;top: 0;bottom: 0;left: 50%;z-index: -1;}#sk-container-id-1 div.sk-parallel-item {display: flex;flex-direction: column;z-index: 1;position: relative;background-color: white;}#sk-container-id-1 div.sk-parallel-item:first-child::after {align-self: flex-end;width: 50%;}#sk-container-id-1 div.sk-parallel-item:last-child::after {align-self: flex-start;width: 50%;}#sk-container-id-1 div.sk-parallel-item:only-child::after {width: 0;}#sk-container-id-1 div.sk-dashed-wrapped {border: 1px dashed gray;margin: 0 0.4em 0.5em 0.4em;box-sizing: border-box;padding-bottom: 0.4em;background-color: white;}#sk-container-id-1 div.sk-label label {font-family: monospace;font-weight: bold;display: inline-block;line-height: 1.2em;}#sk-container-id-1 div.sk-label-container {text-align: center;}#sk-container-id-1 div.sk-container {/* jupyter's `normalize.less` sets `[hidden] { display: none; }` but bootstrap.min.css set `[hidden] { display: none !important; }` so we also need the `!important` here to be able to override the default hidden behavior on the sphinx rendered scikit-learn.org. See: https://github.com/scikit-learn/scikit-learn/issues/21755 */display: inline-block !important;position: relative;}#sk-container-id-1 div.sk-text-repr-fallback {display: none;}</style><div id=\"sk-container-id-1\" class=\"sk-top-container\"><div class=\"sk-text-repr-fallback\"><pre>NMF(beta_loss=&#x27;kullback-leibler&#x27;, init=&#x27;nndsvda&#x27;, n_components=2,\n",
       "    random_state=100, solver=&#x27;mu&#x27;)</pre><b>In a Jupyter environment, please rerun this cell to show the HTML representation or trust the notebook. <br />On GitHub, the HTML representation is unable to render, please try loading this page with nbviewer.org.</b></div><div class=\"sk-container\" hidden><div class=\"sk-item\"><div class=\"sk-estimator sk-toggleable\"><input class=\"sk-toggleable__control sk-hidden--visually\" id=\"sk-estimator-id-1\" type=\"checkbox\" checked><label for=\"sk-estimator-id-1\" class=\"sk-toggleable__label sk-toggleable__label-arrow\">NMF</label><div class=\"sk-toggleable__content\"><pre>NMF(beta_loss=&#x27;kullback-leibler&#x27;, init=&#x27;nndsvda&#x27;, n_components=2,\n",
       "    random_state=100, solver=&#x27;mu&#x27;)</pre></div></div></div></div></div>"
      ],
      "text/plain": [
       "NMF(beta_loss='kullback-leibler', init='nndsvda', n_components=2,\n",
       "    random_state=100, solver='mu')"
      ]
     },
     "execution_count": 12,
     "metadata": {},
     "output_type": "execute_result"
    }
   ],
   "source": [
    "from sklearn.decomposition import NMF\n",
    "\n",
    "nmf = NMF(n_components=2,\n",
    "          random_state=100,\n",
    "          init='nndsvda', \n",
    "          solver = 'mu',\n",
    "          beta_loss = 'kullback-leibler')\n",
    "nmf.fit(X_tfidf)"
   ]
  },
  {
   "cell_type": "code",
   "execution_count": 19,
   "id": "6957e9d4-150b-4945-a2d0-34cd2bad0182",
   "metadata": {},
   "outputs": [
    {
     "name": "stdout",
     "output_type": "stream",
     "text": [
      "Accuracy:  86.5 %\n"
     ]
    },
    {
     "data": {
      "image/png": "[encoded data removed]",
      "text/plain": [
       "<Figure size 640x480 with 2 Axes>"
      ]
     },
     "metadata": {},
     "output_type": "display_data"
    }
   ],
   "source": [
    "x= nmf.transform(X_tfidf)\n",
    "nmf_pred = 1*(x[:,0]>x[:,1])\n",
    "\n",
    "label_order_text, text_acc = label_permute_compare(trainDF['type'].values,nmf_pred)\n",
    "text_pred_labels = np.array([label_order_text[label] for label in nmf_pred])\n",
    "\n",
    "print('Accuracy: ', int(text_acc*1000)/10,'%')\n",
    "\n",
    "text_cm = confusion_matrix(trainDF['type'].values,text_pred_labels)/len(text_pred_labels)\n",
    "sn.heatmap(text_cm, cmap='plasma', annot=True)\n",
    "plt.show()"
   ]
  },
  {
   "cell_type": "markdown",
   "id": "dd5743e5-55fa-4863-8443-466e0a76f6cc",
   "metadata": {},
   "source": [
    "### Comparison to Supervised Learning\n",
    "With this being a categorization issue, I wanted to take a few minutes to look at what supervised learning would be able to accomplish with this issue."
   ]
  },
  {
   "cell_type": "code",
   "execution_count": 14,
   "id": "e3a718c4-bbf9-45d8-9053-b4e244453239",
   "metadata": {},
   "outputs": [],
   "source": [
    "from sklearn.model_selection import train_test_split\n",
    "from sklearn.ensemble import RandomForestClassifier\n",
    "from sklearn.pipeline import Pipeline\n",
    "from sklearn.metrics import accuracy_score\n",
    "\n",
    "test_train_ratio = np.linspace(0.1, 0.9, 9)\n",
    "\n",
    "test_accuracy = []\n",
    "cms = []\n",
    "\n",
    "for x in test_train_ratio:\n",
    "    \n",
    "    X_train, X_test, Y_train, Y_test = train_test_split(trainDF['cleantext'],trainDF['type'], test_size = x, random_state = 42,shuffle=True)\n",
    "    \n",
    "    rfc = Pipeline([('tfidf', vectorizer),\n",
    "                ('rfc', RandomForestClassifier(n_estimators=100)),\n",
    "               ])\n",
    "\n",
    "    rfc.fit(X_train, Y_train)\n",
    "\n",
    "    test_predict = rfc.predict(X_test)\n",
    "\n",
    "    test_accuracy.append(accuracy_score(test_predict, Y_test)*100)\n",
    "    \n",
    "    cms.append( [x,confusion_matrix(Y_test,test_predict)/len(test_predict)])"
   ]
  },
  {
   "cell_type": "code",
   "execution_count": 18,
   "id": "cd1bda1d-ff40-4453-885a-7150c25fbbf8",
   "metadata": {},
   "outputs": [
    {
     "data": {
      "image/png": "[encoded data removed]",
      "text/plain": [
       "<Figure size 640x480 with 1 Axes>"
      ]
     },
     "metadata": {},
     "output_type": "display_data"
    }
   ],
   "source": [
    "plt.figure()\n",
    "plt.grid()\n",
    "plt.plot(100-test_train_ratio*100,test_accuracy)\n",
    "plt.title('Test/Train ratio vs Test Accuracy')\n",
    "plt.xlabel('Training Size')\n",
    "plt.ylabel('Accuracy')\n",
    "plt.show()\n"
   ]
  },
  {
   "cell_type": "code",
   "execution_count": 16,
   "id": "b71acd6a-e572-4ee9-b129-d6aec0118a61",
   "metadata": {},
   "outputs": [
    {
     "data": {
      "image/png": "[encoded data removed]",
      "text/plain": [
       "<Figure size 640x480 with 2 Axes>"
      ]
     },
     "metadata": {},
     "output_type": "display_data"
    }
   ],
   "source": [
    "sn.heatmap(cms[5][1], cmap='plasma', annot=True, fmt='.2f')\n",
    "plt.show()"
   ]
  },
  {
   "cell_type": "markdown",
   "id": "cc594059-f407-496b-8859-fa3d279f74b5",
   "metadata": {},
   "source": [
    "### Conclusion\n",
    "In conclusion, there seems to be some clear patterns about what language is frequently used in fake news articles. The model was able to find patterns and determine, with reasnoable accuracy, whether an article was real or fake. In the future, I would hope to be able to have a more diverse dataset to be able to evaluate groups of words and phrases to be able to better identify fake news. "
   ]
  },
  {
   "cell_type": "code",
   "execution_count": null,
   "id": "c5cb2b01-2e3c-4285-9d34-2054de9879d6",
   "metadata": {},
   "outputs": [],
   "source": []
  }
 ],
 "metadata": {
  "kernelspec": {
   "display_name": "Python 3 (ipykernel)",
   "language": "python",
   "name": "python3"
  },
  "language_info": {
   "codemirror_mode": {
    "name": "ipython",
    "version": 3
   },
   "file_extension": ".py",
   "mimetype": "text/x-python",
   "name": "python",
   "nbconvert_exporter": "python",
   "pygments_lexer": "ipython3",
   "version": "3.11.5"
  }
 },
 "nbformat": 4,
 "nbformat_minor": 5
}
